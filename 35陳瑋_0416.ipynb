{
  "nbformat": 4,
  "nbformat_minor": 0,
  "metadata": {
    "colab": {
      "provenance": [],
      "authorship_tag": "ABX9TyNLzTF6y8ByOLkhOmdJcyGy",
      "include_colab_link": true
    },
    "kernelspec": {
      "name": "python3",
      "display_name": "Python 3"
    },
    "language_info": {
      "name": "python"
    }
  },
  "cells": [
    {
      "cell_type": "markdown",
      "metadata": {
        "id": "view-in-github",
        "colab_type": "text"
      },
      "source": [
        "<a href=\"https://colab.research.google.com/github/x2358zx/study_python/blob/main/35%E9%99%B3%E7%91%8B_0416.ipynb\" target=\"_parent\"><img src=\"https://colab.research.google.com/assets/colab-badge.svg\" alt=\"Open In Colab\"/></a>"
      ]
    },
    {
      "cell_type": "code",
      "execution_count": null,
      "metadata": {
        "collapsed": true,
        "id": "kyZNuOlrTXIV"
      },
      "outputs": [],
      "source": [
        "i = 0\n",
        "while i < 10:\n",
        "  n = 20 - 2 * i\n",
        "  print(n)\n",
        "  i = i + 1"
      ]
    },
    {
      "cell_type": "code",
      "source": [
        "a = [90, 20, 30]\n",
        "print(a[2])"
      ],
      "metadata": {
        "id": "uniPW1XOYVMO"
      },
      "execution_count": null,
      "outputs": []
    },
    {
      "cell_type": "code",
      "source": [
        "# 九九乘法表\n",
        "n1 = 1\n",
        "n2 = 1\n",
        "i = 0\n",
        "while i < 9:\n",
        "    n1 = i + 1\n",
        "    j = 0\n",
        "    while j < 9:\n",
        "        n2 = j + 1\n",
        "        result = n1 * n2\n",
        "        print(n1, \"*\", n2, \"=\", result)\n",
        "        j = j + 1\n",
        "    i = i + 1"
      ],
      "metadata": {
        "id": "nL6c9zHXZqIZ"
      },
      "execution_count": null,
      "outputs": []
    },
    {
      "cell_type": "code",
      "source": [
        "# (雙層)二維list以及拿東西的座位\n",
        "game = [\n",
        "    [0.1, 0.2, 0.3],\n",
        "    [1.1, 1.2, 1.3],\n",
        "    [2.1, 2.2, 2.3]\n",
        "]\n",
        "print(game[1][2])\n",
        "print(game[0][1])"
      ],
      "metadata": {
        "id": "zpX1X8bAgztv"
      },
      "execution_count": null,
      "outputs": []
    },
    {
      "cell_type": "code",
      "source": [
        "# OOXX\n",
        "# 把問題簡化\n",
        "# 1. 輪流選擇位置(最後做)\n",
        "# 2. 確認當你下了這個位置以後， 你有沒有贏(橫, 直, 斜*2)\n",
        "\n",
        "# 還未被選擇: -1\n",
        "# 被選擇O: 0\n",
        "# 被選擇X: 1\n",
        "# 橫的叫列row, 直的較行col\n",
        "board = [\n",
        "    [0,0,-1],\n",
        "    [-1,-1,-1],\n",
        "    [-1,-1,-1]\n",
        "]\n",
        "\n",
        "row = 0\n",
        "# 我先把這一列的第一個拿出來,三個東西都要跟第一個一樣\n",
        "target = board[row][0]\n",
        "# 我準備一個值,我先假設他是連成一條線的,如果他不是\n",
        "line = True\n",
        "j = 0\n",
        "while j < 3:\n",
        "    col = j\n",
        "    if not board[row][col] == target:\n",
        "        line = False\n",
        "        break\n",
        "    # 檢查這三個是否為同個東西\n",
        "    j = j + 1\n",
        "print(line)"
      ],
      "metadata": {
        "colab": {
          "base_uri": "https://localhost:8080/"
        },
        "id": "acYUn-g1i24F",
        "outputId": "206e4b93-d5cf-4cf9-ffb5-036f34e1e930"
      },
      "execution_count": null,
      "outputs": [
        {
          "output_type": "stream",
          "name": "stdout",
          "text": [
            "False\n"
          ]
        }
      ]
    },
    {
      "cell_type": "code",
      "source": [
        "# 雖然上面可以擴充, 但我覺得可讀性相對來說有點差, 所以我犧牲擴充性\n",
        "board = [\n",
        "    [ 0,  0,  -1],\n",
        "    [0, -1, -1],\n",
        "    [ 0,  1,  1]\n",
        "]\n",
        "i = 0\n",
        "while i < 3:\n",
        "    row = i\n",
        "    if not board[row][0] == -1:\n",
        "        if board[row][0] == board[row][1] == board[row][2]:\n",
        "            print(row, \"連線了\")\n",
        "        else:\n",
        "            print(row, \"沒有連線\")\n",
        "    else:\n",
        "        print(row, \"頭一個沒被選擇\")\n",
        "    i = i + 1\n"
      ],
      "metadata": {
        "id": "Lhy4twB0mBMs"
      },
      "execution_count": null,
      "outputs": []
    },
    {
      "cell_type": "code",
      "source": [
        "board = [\n",
        "    [ 0,  0,  -1],\n",
        "    [0, -1, -1],\n",
        "    [ 0,  1,  1]\n",
        "]\n",
        "col = 0\n",
        "while col < 3:\n",
        "    if not board[0][col] == -1:\n",
        "        if board[0][col] == board[1][col] == board[2][col]:\n",
        "            print(col, \"連線了\")\n",
        "        else:\n",
        "            print(col, \"沒有連線\")\n",
        "    else:\n",
        "        print(col, \"頭一個沒被選擇\")\n",
        "    col = col + 1"
      ],
      "metadata": {
        "colab": {
          "base_uri": "https://localhost:8080/"
        },
        "id": "TZCBc12cqsud",
        "outputId": "50db2540-9172-4a98-daca-e0fe9d1088ec"
      },
      "execution_count": null,
      "outputs": [
        {
          "output_type": "stream",
          "name": "stdout",
          "text": [
            "0 連線了\n",
            "1 沒有連線\n",
            "2 頭一個沒被選擇\n"
          ]
        }
      ]
    },
    {
      "cell_type": "code",
      "source": [
        "board = [\n",
        "    [ 0,  0,  -1],\n",
        "    [0, -1, -1],\n",
        "    [ 0,  1,  1]\n",
        "]\n",
        "col = 0\n",
        "row = 0\n",
        "while col < 3:\n",
        "    if not board[0][col] == -1:\n",
        "        if board[0][col] == board[1][col] == board[2][col]:\n",
        "            print(col, \"連線了\")\n",
        "        else:\n",
        "            print(col, \"沒有連線\")\n",
        "    else:\n",
        "        print(col, \"頭一個沒被選擇\")\n",
        "    col = col + 1"
      ],
      "metadata": {
        "id": "5OooUfINsCsB"
      },
      "execution_count": null,
      "outputs": []
    },
    {
      "cell_type": "code",
      "source": [
        "board = [\n",
        "    [ 0, -1, -1],\n",
        "    [-1,  0, -1],\n",
        "    [-1, -1,  0]\n",
        "]\n",
        "# board = [\n",
        "#     [-1, -1,  0],\n",
        "#     [-1,  0, -1],\n",
        "#     [ 0, -1, -1]\n",
        "# ]\n",
        "# 00 11 22\n",
        "# 20 11 02\n",
        "if not board[0][0] == -1:\n",
        "    if board[0][0] == board[1][1] == board[2][2]:\n",
        "        print(\"左上到右下連線了\")\n",
        "    else:\n",
        "        print(\"沒有連線\")\n",
        "\n",
        "if not board[0][0] == -1:\n",
        "    if board[0][2] == board[1][1] == board[2][0]:\n",
        "        print(\"右上到左下連線了\")\n",
        "    else:\n",
        "        print(\"沒有連線\")"
      ],
      "metadata": {
        "colab": {
          "base_uri": "https://localhost:8080/"
        },
        "id": "J-AM1QMNtG5J",
        "outputId": "0aa108c8-ab22-460e-987c-ead447c4e66f"
      },
      "execution_count": null,
      "outputs": [
        {
          "output_type": "stream",
          "name": "stdout",
          "text": [
            "左上到右下連線了\n",
            "沒有連線\n"
          ]
        }
      ]
    },
    {
      "cell_type": "code",
      "source": [
        "# 印出盤面\n",
        "board = [\n",
        "    [ -1, -1,  0],\n",
        "    [ -1,  0, -1],\n",
        "    [  0,  1,  1]\n",
        "]\n",
        "trans = [\"O\", \"X\"]\n",
        "\n",
        "i = 0\n",
        "while i < 3:\n",
        "    row = i\n",
        "    # 把這個row的東西印成一行\n",
        "    line = \"\"\n",
        "    j = 0\n",
        "    while j < 3:\n",
        "        player = board[row][j]\n",
        "        if not player == -1:\n",
        "            line = line + trans[player] + \" \"\n",
        "        else:\n",
        "            # 沒被選擇的話, 我們就用_來表示\n",
        "            line = line + \"_\" + \" \"\n",
        "        j = j + 1\n",
        "    print(line)\n",
        "    i = i + 1"
      ],
      "metadata": {
        "id": "SywA6Lv4vtSl"
      },
      "execution_count": null,
      "outputs": []
    },
    {
      "cell_type": "code",
      "source": [
        "import random\n",
        "# round % 2 == 0: 奇數回合\n",
        "# round % 2 == 1: 偶數回合\n",
        "board = [\n",
        "    [ -1, -1, -1],\n",
        "    [ -1, -1, -1],\n",
        "    [ -1, -1, -1]\n",
        "]\n",
        "round = 0\n",
        "while True:\n",
        "    # 有選過的不能再選\n",
        "    while True:\n",
        "        if round % 2 == 0:\n",
        "            row_chosen = int(input(\"選擇第幾列\"))\n",
        "            col_chosen = int(input(\"選擇第幾行\"))\n",
        "        else:\n",
        "            row_chosen = random.randint(0, 2)\n",
        "            col_chosen = random.randint(0, 2)\n",
        "        # 檢查有沒有被選\n",
        "        if board[row_chosen][col_chosen] == -1:\n",
        "            break\n",
        "        else:\n",
        "            print(\"位置被選了\")\n",
        "\n",
        "        round = round + 1\n"
      ],
      "metadata": {
        "id": "bCnZaG7dyMXm"
      },
      "execution_count": null,
      "outputs": []
    },
    {
      "cell_type": "code",
      "source": [
        "import random\n",
        "# round % 2 == 0: 奇數回合\n",
        "# round % 2 == 1: 偶數回合\n",
        "board = [\n",
        "    [ -1, -1, -1],\n",
        "    [ -1, -1, -1],\n",
        "    [ -1, -1, -1]\n",
        "]\n",
        "round = 0\n",
        "trans = [\"O\", \"X\"]\n",
        "\n",
        "while True:\n",
        "    # 有選過的不能再選\n",
        "    while True:\n",
        "        if round % 2 == 0:\n",
        "            row_chosen = int(input(\"選擇第幾列\"))\n",
        "            col_chosen = int(input(\"選擇第幾行\"))\n",
        "        else:\n",
        "            row_chosen = random.randint(0, 2)\n",
        "            col_chosen = random.randint(0, 2)\n",
        "        # 檢查有沒有被選\n",
        "        if board[row_chosen][col_chosen] == -1:\n",
        "            break\n",
        "        else:\n",
        "            print(\"位置被選了\")\n",
        "\n",
        "        round = round + 1\n",
        "\n",
        "    # 印出盤面\n",
        "\n",
        "\n",
        "    i = 0\n",
        "    while i < 3:\n",
        "        row = i\n",
        "        # 把這個row的東西印成一行\n",
        "        line = \"\"\n",
        "        j = 0\n",
        "        while j < 3:\n",
        "            player = board[row][j]\n",
        "            if not player == -1:\n",
        "                line = line + trans[player] + \" \"\n",
        "            else:\n",
        "                # 沒被選擇的話, 我們就用_來表示\n",
        "                line = line + \"_\" + \" \"\n",
        "            j = j + 1\n",
        "        print(line)\n",
        "        i = i + 1"
      ],
      "metadata": {
        "id": "Lnn2xmvn1C00"
      },
      "execution_count": null,
      "outputs": []
    },
    {
      "cell_type": "code",
      "source": [
        "import random\n",
        "# round % 2 == 0: 奇數回合\n",
        "# round % 2 == 1: 偶數回合\n",
        "trans = [\"O\", \"X\"]\n",
        "\n",
        "board = [\n",
        "    [ -1, -1, -1],\n",
        "    [ -1, -1, -1],\n",
        "    [ -1, -1, -1]\n",
        "]\n",
        "winner = -1\n",
        "# 我發現是True的時候就reset, 避免我要寫很多次同樣程式碼\n",
        "reset = False\n",
        "round = 0\n",
        "\n",
        "while True:\n",
        "    # 印個第幾回合好像比較帥\n",
        "    print(\"-\" * 30)\n",
        "    print(\"回合:\", round)\n",
        "    # 有選過的不能再選\n",
        "    while True:\n",
        "        if round % 2 == 0:\n",
        "            row_chosen = int(input(\"選擇第幾列\"))\n",
        "            col_chosen = int(input(\"選擇第幾行\"))\n",
        "        else:\n",
        "            row_chosen = random.randint(0, 2)\n",
        "            col_chosen = random.randint(0, 2)\n",
        "        # 檢查有沒有被選\n",
        "        if board[row_chosen][col_chosen] == -1:\n",
        "            # 記得做設定\n",
        "            board[row_chosen][col_chosen] = round % 2\n",
        "            break\n",
        "        else:\n",
        "            print(\"位置被選了\")\n",
        "    # 有選了就下回合\n",
        "    round = round + 1\n",
        "\n",
        "    # 印出盤面\n",
        "    i = 0\n",
        "    while i < 3:\n",
        "        row = i\n",
        "        # 把這個row的東西印成一行\n",
        "        line = \"\"\n",
        "        j = 0\n",
        "        while j < 3:\n",
        "            player = board[row][j]\n",
        "            if not player == -1:\n",
        "                line = line + trans[player] + \" \"\n",
        "            else:\n",
        "                # 沒被選擇的畫, 我們就用_來表示\n",
        "                line = line + \"_\" + \" \"\n",
        "            j = j + 1\n",
        "        print(line)\n",
        "        i = i + 1\n",
        "\n",
        "    # 判定勝負\n",
        "    # 橫的確認\n",
        "    i = 0\n",
        "    while i < 3:\n",
        "        row = i\n",
        "        if not board[row][0] == -1:\n",
        "            if board[row][0] == board[row][1] == board[row][2]:\n",
        "                # print(row, \"連線了\")\n",
        "                winner = board[row][0]\n",
        "                reset = True\n",
        "        i = i + 1\n",
        "\n",
        "    # 直的確認\n",
        "    i = 0\n",
        "    while i < 3:\n",
        "        col = i\n",
        "        if not board[0][col] == -1:\n",
        "            if board[0][col] == board[1][col] == board[2][col]:\n",
        "                # print(col, \"連線了\")\n",
        "                winner = board[0][col]\n",
        "                reset = True\n",
        "        i = i + 1\n",
        "\n",
        "    # 斜的確認\n",
        "    if not board[0][0] == -1:\n",
        "        if board[0][0] == board[1][1] == board[2][2]:\n",
        "            # print(\"左上到右下連線\")\n",
        "            winner = board[0][0]\n",
        "            reset = True\n",
        "\n",
        "    if not board[0][2] == -1:\n",
        "        if board[0][2] == board[1][1] == board[2][0]:\n",
        "            # print(\"右上到左下連線\")\n",
        "            winner = board[0][2]\n",
        "            reset = True\n",
        "\n",
        "    # 如果winner不是-1 那就是有人贏了\n",
        "    if not winner == -1:\n",
        "        print(trans[winner], \"贏了!\")\n",
        "\n",
        "    if reset == True:\n",
        "        # 重新新一盤遊戲\n",
        "        board = [\n",
        "            [ -1, -1, -1],\n",
        "            [ -1, -1, -1],\n",
        "            [ -1, -1, -1]\n",
        "        ]\n",
        "        winner = -1\n",
        "        # 我發現是True的時候就reset, 避免我要寫很多次同樣程式碼\n",
        "        reset = False\n",
        "        round = 0"
      ],
      "metadata": {
        "id": "dufmltFu5gBu"
      },
      "execution_count": null,
      "outputs": []
    }
  ]
}